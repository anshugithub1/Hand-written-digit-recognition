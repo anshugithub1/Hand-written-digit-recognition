{
 "cells": [
  {
   "cell_type": "code",
   "execution_count": 1,
   "id": "ae5ee958-f9ae-4df1-881b-adffafc43b83",
   "metadata": {},
   "outputs": [],
   "source": [
    "import tensorflow as tf"
   ]
  },
  {
   "cell_type": "code",
   "execution_count": 2,
   "id": "454658b0-96f4-4462-9f8d-24bf8a9fb2dc",
   "metadata": {},
   "outputs": [],
   "source": [
    "import pandas as pd\n",
    "import numpy as np"
   ]
  },
  {
   "cell_type": "code",
   "execution_count": 3,
   "id": "c79fb8f9-e45b-4fd9-b4f3-ba863f6d36a3",
   "metadata": {},
   "outputs": [],
   "source": [
    "from tensorflow import keras\n",
    "from keras import layers"
   ]
  },
  {
   "cell_type": "code",
   "execution_count": 4,
   "id": "830b47fb-e97c-4544-a128-e0420e82e201",
   "metadata": {},
   "outputs": [],
   "source": [
    "from tensorflow.keras.datasets import mnist"
   ]
  },
  {
   "cell_type": "code",
   "execution_count": 5,
   "id": "df340b4b-314a-49b7-b574-c1bfc3e461c1",
   "metadata": {},
   "outputs": [],
   "source": [
    "(x_train,y_train) , (x_test,y_test) = mnist.load_data()"
   ]
  },
  {
   "cell_type": "code",
   "execution_count": null,
   "id": "3169b1e1-d4a3-4046-986a-ea5b3f9e1f0b",
   "metadata": {},
   "outputs": [],
   "source": [
    "print(x_train.shape,x_test.shape)"
   ]
  },
  {
   "cell_type": "code",
   "execution_count": null,
   "id": "4eaece96-0941-4af2-a730-af0f8d47aa37",
   "metadata": {
    "scrolled": true
   },
   "outputs": [],
   "source": [
    "print(x_train[0])"
   ]
  },
  {
   "cell_type": "code",
   "execution_count": null,
   "id": "be1e40a3-1b5d-426a-b558-39a760ba8e4b",
   "metadata": {
    "scrolled": true
   },
   "outputs": [],
   "source": [
    "#flattening the data for impemention of neural network--training data\n",
    "x_train=x_train.reshape(-1,28*28).astype(\"float32\")/255\n",
    "print(\"flattend training dataset has dimensions:\",x_train.shape)\n",
    "print(\"one data of the flattend training dataset is:\\n\",x_train[0])"
   ]
  },
  {
   "cell_type": "code",
   "execution_count": null,
   "id": "eb83b5f8-5161-49af-b409-d6a5be4cc278",
   "metadata": {},
   "outputs": [],
   "source": [
    "#flattening the data for impemention of neural network--test data\n",
    "x_test=x_test.reshape(-1,28*28).astype(\"float32\")/255\n",
    "print(\"flattend test dataset has dimensions:\",x_test.shape)\n",
    "print(\"one data of the flattend test dataset is:\\n\",x_test[0])"
   ]
  },
  {
   "cell_type": "code",
   "execution_count": 10,
   "id": "34e6ad37-3194-444d-9152-5408a4a7c237",
   "metadata": {},
   "outputs": [],
   "source": [
    "# Now lets create a neural network model using keras api\n",
    "model=keras.Sequential(\n",
    "    [\n",
    "        layers.Dense(512 , activation = 'relu'),\n",
    "        layers.Dense(256 , activation = 'relu'),\n",
    "        layers.Dense(10)\n",
    "    ]\n",
    ")\n",
    "#note: Sequential , Dense --these words have their first letter capital"
   ]
  },
  {
   "cell_type": "code",
   "execution_count": 11,
   "id": "2a0efed0-fe57-409a-8678-a98774e91f93",
   "metadata": {},
   "outputs": [],
   "source": [
    "# now lets do the compilation of the model formed i.e. defining the parameters of the network for example- loss function , optimizers , etc\n",
    "model.compile(\n",
    "    loss=keras.losses.SparseCategoricalCrossentropy(from_logits='true'),\n",
    "    optimizer=keras.optimizers.Adam(learning_rate=0.001),\n",
    "    metrics=['accuracy'],\n",
    ")\n",
    "#note: metrics , learning_rate -->these words should be written as it is."
   ]
  },
  {
   "cell_type": "code",
   "execution_count": null,
   "id": "add0a2ad-205e-4086-9205-73657af33bad",
   "metadata": {},
   "outputs": [],
   "source": [
    "# now lets feed/fit the data in the neural network mode for training\n",
    "model.fit(x_train , y_train , batch_size = 32 , epochs = 5 )"
   ]
  },
  {
   "cell_type": "code",
   "execution_count": null,
   "id": "7373e10d-16ce-4a00-80b1-4896dbbcf4d4",
   "metadata": {},
   "outputs": [],
   "source": [
    "#now lets test our model on the test data set.\n",
    "model.evaluate(x_test , y_test , batch_size = 32 , return_dict='true')\n",
    "# note: here epochs for the test dataset is 1 (default value) --> otherwise it will train itself on the test dataset as well."
   ]
  },
  {
   "cell_type": "code",
   "execution_count": null,
   "id": "5fe7d75a-c5df-4440-8642-1c593604a520",
   "metadata": {},
   "outputs": [],
   "source": [
    "ans=model.evaluate(x_test , y_test , batch_size = 32 , return_dict='true')\n",
    "# print(ans['accuracy'])\n",
    "print(model.metrics_names)"
   ]
  },
  {
   "cell_type": "code",
   "execution_count": null,
   "id": "b5a27888-a610-4ff2-ac83-2f4e63e73b79",
   "metadata": {},
   "outputs": [],
   "source": [
    "# comleted the first project--> implementation of neural network using tensorflow and keras api.\n",
    "# worked on dataset --> mnist (for recognising digits of)\n",
    "# developed a model -> trained the model -> test for the test dataset -->accuracy on training dataset~98.96% accuracy on test dataset~97.899\n",
    "# still didn't used it for prediction.....\n",
    "# accuracy of test data set is increased when did regularisation i.e. converted x_train and y_train from float 64 to float 32 and scaled from 0-255 to 0-1 by dividing by 255. "
   ]
  },
  {
   "cell_type": "code",
   "execution_count": null,
   "id": "19ae52a7-03ad-435e-84dc-9bd2afda0211",
   "metadata": {},
   "outputs": [],
   "source": []
  }
 ],
 "metadata": {
  "kernelspec": {
   "display_name": "Python 3 (ipykernel)",
   "language": "python",
   "name": "python3"
  },
  "language_info": {
   "codemirror_mode": {
    "name": "ipython",
    "version": 3
   },
   "file_extension": ".py",
   "mimetype": "text/x-python",
   "name": "python",
   "nbconvert_exporter": "python",
   "pygments_lexer": "ipython3",
   "version": "3.12.2"
  }
 },
 "nbformat": 4,
 "nbformat_minor": 5
}
